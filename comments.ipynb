{
 "cells": [
  {
   "cell_type": "markdown",
   "metadata": {},
   "source": [
    "Labeling survey comments.\n",
    "=============\n",
    "\n",
    "In this project, I needed to analyze comments from a survey concerning department performance.\n",
    "To automate review of text comments, this function labels each comment by the department that the comment reviews.\n",
    "The labeled data is written into a csv file for further analysis."
   ]
  },
  {
   "cell_type": "code",
   "execution_count": 34,
   "metadata": {
    "collapsed": true
   },
   "outputs": [],
   "source": [
    "import numpy as np\n",
    "import pandas as pd\n",
    "import csv as csv"
   ]
  },
  {
   "cell_type": "code",
   "execution_count": 35,
   "metadata": {
    "collapsed": true
   },
   "outputs": [],
   "source": [
    "#Load file with survey comments to be processed\n",
    "df = pd.read_csv('comments.csv')"
   ]
  },
  {
   "cell_type": "code",
   "execution_count": 54,
   "metadata": {
    "collapsed": false
   },
   "outputs": [],
   "source": [
    "#Review & confirm data structure\n",
    "df.head()"
   ]
  },
  {
   "cell_type": "code",
   "execution_count": 56,
   "metadata": {
    "collapsed": false
   },
   "outputs": [],
   "source": [
    "#Function to write labeled data into a csv file\n",
    "def writes(writer, label, data):\n",
    "    if label in data:\n",
    "        writer.writerow([''.join(label+'|||' + data).strip()])\n",
    "\n",
    "#Labels to be assigned to each comment. In our case, all comments were about one of each departments below\n",
    "labels = ['quality', 'innovation', 'sales', 'marketing', 'project', 'accounting', 'it', 'customer', 'elgin', 'purchasing', \n",
    "          'inventory']        \n",
    "\n",
    "#Assign each comment to each department and write labeled output into a csv for further processing\n",
    "with open('out.csv', 'w', newline='') as csvfile:\n",
    "    writer = csv.writer(csvfile)\n",
    "    \n",
    "    for label in labels:\n",
    "        for index, series in df.iterrows():\n",
    "\n",
    "            row_data = series[1].lower()\n",
    "            writes(writer, label, row_data)"
   ]
  }
 ],
 "metadata": {
  "kernelspec": {
   "display_name": "Python 3",
   "language": "python",
   "name": "python3"
  },
  "language_info": {
   "codemirror_mode": {
    "name": "ipython",
    "version": 3
   },
   "file_extension": ".py",
   "mimetype": "text/x-python",
   "name": "python",
   "nbconvert_exporter": "python",
   "pygments_lexer": "ipython3",
   "version": "3.6.0"
  }
 },
 "nbformat": 4,
 "nbformat_minor": 2
}
