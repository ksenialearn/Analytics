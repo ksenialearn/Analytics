{
 "cells": [
  {
   "cell_type": "code",
   "execution_count": 35,
   "metadata": {},
   "outputs": [],
   "source": [
    "import pandas as pd\n",
    "import mysql.connector\n",
    "from mysql.connector import errorcode"
   ]
  },
  {
   "cell_type": "code",
   "execution_count": 36,
   "metadata": {
    "collapsed": true
   },
   "outputs": [],
   "source": [
    "data_df = pd.read_csv('/Users/ksenia/Analytics/Instacart/departments.csv')"
   ]
  },
  {
   "cell_type": "code",
   "execution_count": 37,
   "metadata": {},
   "outputs": [
    {
     "data": {
      "text/html": [
       "<div>\n",
       "<style>\n",
       "    .dataframe thead tr:only-child th {\n",
       "        text-align: right;\n",
       "    }\n",
       "\n",
       "    .dataframe thead th {\n",
       "        text-align: left;\n",
       "    }\n",
       "\n",
       "    .dataframe tbody tr th {\n",
       "        vertical-align: top;\n",
       "    }\n",
       "</style>\n",
       "<table border=\"1\" class=\"dataframe\">\n",
       "  <thead>\n",
       "    <tr style=\"text-align: right;\">\n",
       "      <th></th>\n",
       "      <th>department_id</th>\n",
       "      <th>department</th>\n",
       "    </tr>\n",
       "  </thead>\n",
       "  <tbody>\n",
       "    <tr>\n",
       "      <th>0</th>\n",
       "      <td>1</td>\n",
       "      <td>frozen</td>\n",
       "    </tr>\n",
       "    <tr>\n",
       "      <th>1</th>\n",
       "      <td>2</td>\n",
       "      <td>other</td>\n",
       "    </tr>\n",
       "    <tr>\n",
       "      <th>2</th>\n",
       "      <td>3</td>\n",
       "      <td>bakery</td>\n",
       "    </tr>\n",
       "    <tr>\n",
       "      <th>3</th>\n",
       "      <td>4</td>\n",
       "      <td>produce</td>\n",
       "    </tr>\n",
       "    <tr>\n",
       "      <th>4</th>\n",
       "      <td>5</td>\n",
       "      <td>alcohol</td>\n",
       "    </tr>\n",
       "  </tbody>\n",
       "</table>\n",
       "</div>"
      ],
      "text/plain": [
       "   department_id department\n",
       "0              1     frozen\n",
       "1              2      other\n",
       "2              3     bakery\n",
       "3              4    produce\n",
       "4              5    alcohol"
      ]
     },
     "execution_count": 37,
     "metadata": {},
     "output_type": "execute_result"
    }
   ],
   "source": [
    "data_df[:5]"
   ]
  },
  {
   "cell_type": "code",
   "execution_count": 38,
   "metadata": {},
   "outputs": [
    {
     "data": {
      "text/plain": [
       "department_id     int64\n",
       "department       object\n",
       "dtype: object"
      ]
     },
     "execution_count": 38,
     "metadata": {},
     "output_type": "execute_result"
    }
   ],
   "source": [
    "data_df.dtypes"
   ]
  },
  {
   "cell_type": "code",
   "execution_count": 39,
   "metadata": {
    "collapsed": true
   },
   "outputs": [],
   "source": [
    "def get_conn():\n",
    "    return mysql.connector.connect(host= \"localhost\",\n",
    "                  user=\"root\",\n",
    "                  passwd=\"password\",\n",
    "                  db=\"instacart\")"
   ]
  },
  {
   "cell_type": "code",
   "execution_count": 40,
   "metadata": {},
   "outputs": [
    {
     "name": "stdout",
     "output_type": "stream",
     "text": [
      "('Creating table {}: ', 'departments')\n",
      "OK\n"
     ]
    }
   ],
   "source": [
    "# Create table Departments in MySQL\n",
    "TABLES = {}\n",
    "TABLES['departments'] = (\n",
    "    \"CREATE TABLE `departments` (\"\n",
    "    \"  `department_id` int NOT NULL,\"\n",
    "    \"  `department` varchar(200),\"\n",
    "    \"  PRIMARY KEY (`department_id`), UNIQUE KEY `id` (`department_id`)\"\n",
    "    \") ENGINE=InnoDB\")\n",
    "\n",
    "conn = get_conn()\n",
    "cursor = conn.cursor()\n",
    "for name, ddl in TABLES.iteritems():\n",
    "    try:\n",
    "        print(\"Creating table {}: \", name)\n",
    "        cursor.execute(ddl)\n",
    "    except mysql.connector.Error as err:\n",
    "        if err.errno == errorcode.ER_TABLE_EXISTS_ERROR:\n",
    "            print(\"already exists.\")\n",
    "        else:\n",
    "            print(err.msg)\n",
    "    else:\n",
    "        print(\"OK\")\n",
    "conn.commit()\n",
    "cursor.close()\n",
    "conn.close()"
   ]
  },
  {
   "cell_type": "code",
   "execution_count": 41,
   "metadata": {},
   "outputs": [
    {
     "data": {
      "text/plain": [
       "{'departments': 'CREATE TABLE `departments` (  `department_id` int NOT NULL,  `department` varchar(200),  PRIMARY KEY (`department_id`), UNIQUE KEY `id` (`department_id`)) ENGINE=InnoDB'}"
      ]
     },
     "execution_count": 41,
     "metadata": {},
     "output_type": "execute_result"
    }
   ],
   "source": [
    "TABLES"
   ]
  },
  {
   "cell_type": "code",
   "execution_count": 42,
   "metadata": {},
   "outputs": [
    {
     "name": "stdout",
     "output_type": "stream",
     "text": [
      "['department_id', 'department']\n"
     ]
    }
   ],
   "source": [
    "#List of headers for inserting data into database\n",
    "headers = 'department_id, department'\n",
    "headers = headers.split(\", \")\n",
    "print(headers)"
   ]
  },
  {
   "cell_type": "code",
   "execution_count": 43,
   "metadata": {
    "scrolled": true
   },
   "outputs": [
    {
     "name": "stdout",
     "output_type": "stream",
     "text": [
      "INSERT INTO instacart.departments (department_id, department) VALUES(3, 'bakery')\n"
     ]
    }
   ],
   "source": [
    "#Function to insert each line with data into database under corresponding headers \n",
    "def create_insert_sql(line, headers):\n",
    "    \"\"\"\n",
    "    Create a SQL statement for inserting row \n",
    "    \"\"\"\n",
    "    values = []\n",
    "    for header in headers:\n",
    "        val = line[header]\n",
    "        \n",
    "        if repr(val) == 'nan':\n",
    "            values.append('null')\n",
    "        else:\n",
    "            values.append(repr(val))\n",
    "\n",
    "    headerpart = ', '.join(headers)    \n",
    "    valuespart = ', '.join(values)\n",
    "\n",
    "    sql = 'INSERT INTO instacart.departments (' + headerpart + ')' + ' VALUES' + '(' + valuespart + ')'\n",
    "    return sql\n",
    "\n",
    "\n",
    "#Test funtion\n",
    "line = data_df.iloc[2,:]\n",
    "print(create_insert_sql(line, headers))"
   ]
  },
  {
   "cell_type": "code",
   "execution_count": 45,
   "metadata": {},
   "outputs": [
    {
     "data": {
      "text/html": [
       "<div>\n",
       "<style>\n",
       "    .dataframe thead tr:only-child th {\n",
       "        text-align: right;\n",
       "    }\n",
       "\n",
       "    .dataframe thead th {\n",
       "        text-align: left;\n",
       "    }\n",
       "\n",
       "    .dataframe tbody tr th {\n",
       "        vertical-align: top;\n",
       "    }\n",
       "</style>\n",
       "<table border=\"1\" class=\"dataframe\">\n",
       "  <thead>\n",
       "    <tr style=\"text-align: right;\">\n",
       "      <th></th>\n",
       "      <th>department_id</th>\n",
       "      <th>department</th>\n",
       "    </tr>\n",
       "  </thead>\n",
       "  <tbody>\n",
       "    <tr>\n",
       "      <th>0</th>\n",
       "      <td>1</td>\n",
       "      <td>frozen</td>\n",
       "    </tr>\n",
       "    <tr>\n",
       "      <th>1</th>\n",
       "      <td>2</td>\n",
       "      <td>other</td>\n",
       "    </tr>\n",
       "    <tr>\n",
       "      <th>2</th>\n",
       "      <td>3</td>\n",
       "      <td>bakery</td>\n",
       "    </tr>\n",
       "    <tr>\n",
       "      <th>3</th>\n",
       "      <td>4</td>\n",
       "      <td>produce</td>\n",
       "    </tr>\n",
       "    <tr>\n",
       "      <th>4</th>\n",
       "      <td>5</td>\n",
       "      <td>alcohol</td>\n",
       "    </tr>\n",
       "    <tr>\n",
       "      <th>5</th>\n",
       "      <td>6</td>\n",
       "      <td>international</td>\n",
       "    </tr>\n",
       "    <tr>\n",
       "      <th>6</th>\n",
       "      <td>7</td>\n",
       "      <td>beverages</td>\n",
       "    </tr>\n",
       "    <tr>\n",
       "      <th>7</th>\n",
       "      <td>8</td>\n",
       "      <td>pets</td>\n",
       "    </tr>\n",
       "    <tr>\n",
       "      <th>8</th>\n",
       "      <td>9</td>\n",
       "      <td>dry goods pasta</td>\n",
       "    </tr>\n",
       "    <tr>\n",
       "      <th>9</th>\n",
       "      <td>10</td>\n",
       "      <td>bulk</td>\n",
       "    </tr>\n",
       "    <tr>\n",
       "      <th>10</th>\n",
       "      <td>11</td>\n",
       "      <td>personal care</td>\n",
       "    </tr>\n",
       "    <tr>\n",
       "      <th>11</th>\n",
       "      <td>12</td>\n",
       "      <td>meat seafood</td>\n",
       "    </tr>\n",
       "    <tr>\n",
       "      <th>12</th>\n",
       "      <td>13</td>\n",
       "      <td>pantry</td>\n",
       "    </tr>\n",
       "    <tr>\n",
       "      <th>13</th>\n",
       "      <td>14</td>\n",
       "      <td>breakfast</td>\n",
       "    </tr>\n",
       "    <tr>\n",
       "      <th>14</th>\n",
       "      <td>15</td>\n",
       "      <td>canned goods</td>\n",
       "    </tr>\n",
       "    <tr>\n",
       "      <th>15</th>\n",
       "      <td>16</td>\n",
       "      <td>dairy eggs</td>\n",
       "    </tr>\n",
       "    <tr>\n",
       "      <th>16</th>\n",
       "      <td>17</td>\n",
       "      <td>household</td>\n",
       "    </tr>\n",
       "    <tr>\n",
       "      <th>17</th>\n",
       "      <td>18</td>\n",
       "      <td>babies</td>\n",
       "    </tr>\n",
       "    <tr>\n",
       "      <th>18</th>\n",
       "      <td>19</td>\n",
       "      <td>snacks</td>\n",
       "    </tr>\n",
       "    <tr>\n",
       "      <th>19</th>\n",
       "      <td>20</td>\n",
       "      <td>deli</td>\n",
       "    </tr>\n",
       "    <tr>\n",
       "      <th>20</th>\n",
       "      <td>21</td>\n",
       "      <td>missing</td>\n",
       "    </tr>\n",
       "  </tbody>\n",
       "</table>\n",
       "</div>"
      ],
      "text/plain": [
       "    department_id       department\n",
       "0               1           frozen\n",
       "1               2            other\n",
       "2               3           bakery\n",
       "3               4          produce\n",
       "4               5          alcohol\n",
       "5               6    international\n",
       "6               7        beverages\n",
       "7               8             pets\n",
       "8               9  dry goods pasta\n",
       "9              10             bulk\n",
       "10             11    personal care\n",
       "11             12     meat seafood\n",
       "12             13           pantry\n",
       "13             14        breakfast\n",
       "14             15     canned goods\n",
       "15             16       dairy eggs\n",
       "16             17        household\n",
       "17             18           babies\n",
       "18             19           snacks\n",
       "19             20             deli\n",
       "20             21          missing"
      ]
     },
     "execution_count": 45,
     "metadata": {},
     "output_type": "execute_result"
    }
   ],
   "source": [
    "data_df"
   ]
  },
  {
   "cell_type": "code",
   "execution_count": 46,
   "metadata": {},
   "outputs": [
    {
     "name": "stdout",
     "output_type": "stream",
     "text": [
      "0\n",
      "department_id         1\n",
      "department       frozen\n",
      "Name: 0, dtype: object\n",
      "department_id        2\n",
      "department       other\n",
      "Name: 1, dtype: object\n",
      "department_id         3\n",
      "department       bakery\n",
      "Name: 2, dtype: object\n",
      "department_id          4\n",
      "department       produce\n",
      "Name: 3, dtype: object\n",
      "department_id          5\n",
      "department       alcohol\n",
      "Name: 4, dtype: object\n",
      "department_id                6\n",
      "department       international\n",
      "Name: 5, dtype: object\n",
      "department_id            7\n",
      "department       beverages\n",
      "Name: 6, dtype: object\n",
      "department_id       8\n",
      "department       pets\n",
      "Name: 7, dtype: object\n",
      "department_id                  9\n",
      "department       dry goods pasta\n",
      "Name: 8, dtype: object\n",
      "department_id      10\n",
      "department       bulk\n",
      "Name: 9, dtype: object\n",
      "department_id               11\n",
      "department       personal care\n",
      "Name: 10, dtype: object\n",
      "department_id              12\n",
      "department       meat seafood\n",
      "Name: 11, dtype: object\n",
      "department_id        13\n",
      "department       pantry\n",
      "Name: 12, dtype: object\n",
      "department_id           14\n",
      "department       breakfast\n",
      "Name: 13, dtype: object\n",
      "department_id              15\n",
      "department       canned goods\n",
      "Name: 14, dtype: object\n",
      "department_id            16\n",
      "department       dairy eggs\n",
      "Name: 15, dtype: object\n",
      "department_id           17\n",
      "department       household\n",
      "Name: 16, dtype: object\n",
      "department_id        18\n",
      "department       babies\n",
      "Name: 17, dtype: object\n",
      "department_id        19\n",
      "department       snacks\n",
      "Name: 18, dtype: object\n",
      "department_id      20\n",
      "department       deli\n",
      "Name: 19, dtype: object\n",
      "department_id         21\n",
      "department       missing\n",
      "Name: 20, dtype: object\n",
      "all done\n"
     ]
    }
   ],
   "source": [
    "#Write product data into database\n",
    "\n",
    "conn = get_conn()\n",
    "cursor = conn.cursor()\n",
    "\n",
    "try:\n",
    "    for row in range(0,data_df.shape[0]):\n",
    "        if row % 1000 == 0: \n",
    "            print(row)\n",
    "            conn.commit()\n",
    "        line = data_df.iloc[row,0:]\n",
    "        print(line)\n",
    "        sql = create_insert_sql(line, headers)\n",
    "        try:\n",
    "            cursor.execute(sql)\n",
    "        except Exception as e:\n",
    "            print(sql)\n",
    "            raise e\n",
    "    print(\"all done\")\n",
    "\n",
    "    \n",
    "finally:\n",
    "    cursor.close()\n",
    "    conn.close()"
   ]
  },
  {
   "cell_type": "code",
   "execution_count": null,
   "metadata": {
    "collapsed": true
   },
   "outputs": [],
   "source": []
  }
 ],
 "metadata": {
  "anaconda-cloud": {},
  "kernelspec": {
   "display_name": "Python 2",
   "language": "python",
   "name": "python2"
  },
  "language_info": {
   "codemirror_mode": {
    "name": "ipython",
    "version": 2
   },
   "file_extension": ".py",
   "mimetype": "text/x-python",
   "name": "python",
   "nbconvert_exporter": "python",
   "pygments_lexer": "ipython2",
   "version": "2.7.13"
  }
 },
 "nbformat": 4,
 "nbformat_minor": 1
}
