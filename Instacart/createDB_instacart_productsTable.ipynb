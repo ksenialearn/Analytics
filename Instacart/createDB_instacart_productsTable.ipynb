{
 "cells": [
  {
   "cell_type": "code",
   "execution_count": 13,
   "metadata": {
    "collapsed": true
   },
   "outputs": [],
   "source": [
    "import pandas as pd\n",
    "import mysql.connector\n",
    "from mysql.connector import errorcode"
   ]
  },
  {
   "cell_type": "code",
   "execution_count": 14,
   "metadata": {
    "collapsed": true
   },
   "outputs": [],
   "source": [
    "data_df = pd.read_csv('/Users/ksenia/Analytics/Instacart/products.csv')"
   ]
  },
  {
   "cell_type": "code",
   "execution_count": 15,
   "metadata": {
    "collapsed": false
   },
   "outputs": [
    {
     "data": {
      "text/html": [
       "<div>\n",
       "<table border=\"1\" class=\"dataframe\">\n",
       "  <thead>\n",
       "    <tr style=\"text-align: right;\">\n",
       "      <th></th>\n",
       "      <th>product_id</th>\n",
       "      <th>product_name</th>\n",
       "      <th>aisle_id</th>\n",
       "      <th>department_id</th>\n",
       "    </tr>\n",
       "  </thead>\n",
       "  <tbody>\n",
       "    <tr>\n",
       "      <th>0</th>\n",
       "      <td>1</td>\n",
       "      <td>Chocolate Sandwich Cookies</td>\n",
       "      <td>61</td>\n",
       "      <td>19</td>\n",
       "    </tr>\n",
       "    <tr>\n",
       "      <th>1</th>\n",
       "      <td>2</td>\n",
       "      <td>All-Seasons Salt</td>\n",
       "      <td>104</td>\n",
       "      <td>13</td>\n",
       "    </tr>\n",
       "    <tr>\n",
       "      <th>2</th>\n",
       "      <td>3</td>\n",
       "      <td>Robust Golden Unsweetened Oolong Tea</td>\n",
       "      <td>94</td>\n",
       "      <td>7</td>\n",
       "    </tr>\n",
       "    <tr>\n",
       "      <th>3</th>\n",
       "      <td>4</td>\n",
       "      <td>Smart Ones Classic Favorites Mini Rigatoni Wit...</td>\n",
       "      <td>38</td>\n",
       "      <td>1</td>\n",
       "    </tr>\n",
       "    <tr>\n",
       "      <th>4</th>\n",
       "      <td>5</td>\n",
       "      <td>Green Chile Anytime Sauce</td>\n",
       "      <td>5</td>\n",
       "      <td>13</td>\n",
       "    </tr>\n",
       "  </tbody>\n",
       "</table>\n",
       "</div>"
      ],
      "text/plain": [
       "   product_id                                       product_name  aisle_id  \\\n",
       "0           1                         Chocolate Sandwich Cookies        61   \n",
       "1           2                                   All-Seasons Salt       104   \n",
       "2           3               Robust Golden Unsweetened Oolong Tea        94   \n",
       "3           4  Smart Ones Classic Favorites Mini Rigatoni Wit...        38   \n",
       "4           5                          Green Chile Anytime Sauce         5   \n",
       "\n",
       "   department_id  \n",
       "0             19  \n",
       "1             13  \n",
       "2              7  \n",
       "3              1  \n",
       "4             13  "
      ]
     },
     "execution_count": 15,
     "metadata": {},
     "output_type": "execute_result"
    }
   ],
   "source": [
    "data_df[:5]"
   ]
  },
  {
   "cell_type": "code",
   "execution_count": 16,
   "metadata": {
    "collapsed": false
   },
   "outputs": [
    {
     "data": {
      "text/plain": [
       "product_id        int64\n",
       "product_name     object\n",
       "aisle_id          int64\n",
       "department_id     int64\n",
       "dtype: object"
      ]
     },
     "execution_count": 16,
     "metadata": {},
     "output_type": "execute_result"
    }
   ],
   "source": [
    "data_df.dtypes"
   ]
  },
  {
   "cell_type": "code",
   "execution_count": 17,
   "metadata": {
    "collapsed": true
   },
   "outputs": [],
   "source": [
    "def get_conn():\n",
    "    return mysql.connector.connect(host= \"localhost\",\n",
    "                  user=\"root\",\n",
    "                  passwd=\"password\",\n",
    "                  db=\"instacart\")"
   ]
  },
  {
   "cell_type": "code",
   "execution_count": 18,
   "metadata": {
    "collapsed": false
   },
   "outputs": [
    {
     "name": "stdout",
     "output_type": "stream",
     "text": [
      "('Creating table {}: ', 'products')\n",
      "OK\n"
     ]
    }
   ],
   "source": [
    "# Create table Products in MySQL\n",
    "TABLES = {}\n",
    "TABLES['products'] = (\n",
    "    \"CREATE TABLE `products` (\"\n",
    "    \"  `product_id` int NOT NULL,\"\n",
    "    \"  `product_name` varchar(200),\"\n",
    "    \"  `aisle_id` int,\"\n",
    "    \"  `department_id` int,\"\n",
    "    \"  PRIMARY KEY (`product_id`), UNIQUE KEY `id` (`product_id`)\"\n",
    "    \") ENGINE=InnoDB\")\n",
    "\n",
    "conn = get_conn()\n",
    "cursor = conn.cursor()\n",
    "for name, ddl in TABLES.iteritems():\n",
    "    try:\n",
    "        print(\"Creating table {}: \", name)\n",
    "        cursor.execute(ddl)\n",
    "    except mysql.connector.Error as err:\n",
    "        if err.errno == errorcode.ER_TABLE_EXISTS_ERROR:\n",
    "            print(\"already exists.\")\n",
    "        else:\n",
    "            print(err.msg)\n",
    "    else:\n",
    "        print(\"OK\")\n",
    "conn.commit()\n",
    "cursor.close()\n",
    "conn.close()"
   ]
  },
  {
   "cell_type": "code",
   "execution_count": 21,
   "metadata": {
    "collapsed": false
   },
   "outputs": [
    {
     "name": "stdout",
     "output_type": "stream",
     "text": [
      "['product_id', 'product_name', 'aisle_id', 'department_id']\n"
     ]
    }
   ],
   "source": [
    "#List of headers for inserting data into database\n",
    "headers = 'product_id, product_name, aisle_id, department_id'\n",
    "headers = headers.split(\", \")\n",
    "print(headers)"
   ]
  },
  {
   "cell_type": "code",
   "execution_count": 31,
   "metadata": {
    "collapsed": false,
    "scrolled": true
   },
   "outputs": [
    {
     "name": "stdout",
     "output_type": "stream",
     "text": [
      "INSERT INTO instacart.products (product_id, product_name, aisle_id, department_id) VALUES(3, 'Robust Golden Unsweetened Oolong Tea', 94, 7)\n"
     ]
    }
   ],
   "source": [
    "#Function to insert each line with into database under corresponding headers \n",
    "def create_insert_sql(line, headers):\n",
    "    \"\"\"\n",
    "    Create a SQL statement for inserting row \n",
    "    \"\"\"\n",
    "    values = []\n",
    "    for header in headers:\n",
    "        val = line[header]\n",
    "        \n",
    "        if repr(val) == 'nan':\n",
    "            values.append('null')\n",
    "        else:\n",
    "            values.append(repr(val))\n",
    "\n",
    "    headerpart = ', '.join(headers)    \n",
    "    valuespart = ', '.join(values)\n",
    "\n",
    "    sql = 'INSERT INTO instacart.products (' + headerpart + ')' + ' VALUES' + '(' + valuespart + ')'\n",
    "    return sql\n",
    "\n",
    "\n",
    "#Test funtion\n",
    "line = data_df.iloc[2,:]\n",
    "print(create_insert_sql(line, headers))"
   ]
  },
  {
   "cell_type": "code",
   "execution_count": 33,
   "metadata": {
    "collapsed": false
   },
   "outputs": [
    {
     "name": "stdout",
     "output_type": "stream",
     "text": [
      "0\n",
      "1000\n",
      "2000\n",
      "3000\n",
      "4000\n",
      "5000\n",
      "6000\n",
      "7000\n",
      "8000\n",
      "9000\n",
      "10000\n",
      "11000\n",
      "12000\n",
      "13000\n",
      "14000\n",
      "15000\n",
      "16000\n",
      "17000\n",
      "18000\n",
      "19000\n",
      "20000\n",
      "21000\n",
      "22000\n",
      "23000\n",
      "24000\n",
      "25000\n",
      "26000\n",
      "27000\n",
      "28000\n",
      "29000\n",
      "30000\n",
      "31000\n",
      "32000\n",
      "33000\n",
      "34000\n",
      "35000\n",
      "36000\n",
      "37000\n",
      "38000\n",
      "39000\n",
      "40000\n",
      "41000\n",
      "42000\n",
      "43000\n",
      "44000\n",
      "45000\n",
      "46000\n",
      "47000\n",
      "48000\n",
      "49000\n",
      "all done\n"
     ]
    }
   ],
   "source": [
    "#Write product data into database\n",
    "\n",
    "conn = get_conn()\n",
    "cursor = conn.cursor()\n",
    "\n",
    "try:\n",
    "    for row in range(0,data_df.shape[0]):\n",
    "        if row % 1000 == 0: \n",
    "            print(row)\n",
    "            conn.commit()\n",
    "        line = data_df.iloc[row,0:]\n",
    "        sql = create_insert_sql(line, headers)\n",
    "        try:\n",
    "            cursor.execute(sql)\n",
    "        except Exception as e:\n",
    "            print(sql)\n",
    "            raise e\n",
    "    print(\"all done\")\n",
    "\n",
    "    \n",
    "finally:\n",
    "    cursor.close()\n",
    "    conn.close()"
   ]
  },
  {
   "cell_type": "code",
   "execution_count": null,
   "metadata": {
    "collapsed": true
   },
   "outputs": [],
   "source": []
  }
 ],
 "metadata": {
  "anaconda-cloud": {},
  "kernelspec": {
   "display_name": "Python [conda root]",
   "language": "python",
   "name": "conda-root-py"
  },
  "language_info": {
   "codemirror_mode": {
    "name": "ipython",
    "version": 2
   },
   "file_extension": ".py",
   "mimetype": "text/x-python",
   "name": "python",
   "nbconvert_exporter": "python",
   "pygments_lexer": "ipython2",
   "version": "2.7.12"
  }
 },
 "nbformat": 4,
 "nbformat_minor": 1
}
