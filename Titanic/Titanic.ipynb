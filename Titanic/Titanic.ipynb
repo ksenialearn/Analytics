{
 "cells": [
  {
   "cell_type": "code",
   "execution_count": null,
   "metadata": {
    "collapsed": true
   },
   "outputs": [],
   "source": [
    "import csv as csv\n",
    "import numpy as np"
   ]
  },
  {
   "cell_type": "code",
   "execution_count": null,
   "metadata": {
    "collapsed": false
   },
   "outputs": [],
   "source": [
    "csv_file = csv.reader(open('train.csv', 'rb'))\n",
    "header = csv_file.next()\n",
    "print header"
   ]
  },
  {
   "cell_type": "code",
   "execution_count": null,
   "metadata": {
    "collapsed": false
   },
   "outputs": [],
   "source": [
    "data = []\n",
    "for row in csv_file:\n",
    "    data.append(row)\n",
    "npdata = np.array(data) #convet list to an array"
   ]
  },
  {
   "cell_type": "code",
   "execution_count": null,
   "metadata": {
    "collapsed": false
   },
   "outputs": [],
   "source": [
    "print npdata[0]  #exploring fields\n",
    "print npdata[::, 9]"
   ]
  },
  {
   "cell_type": "code",
   "execution_count": null,
   "metadata": {
    "collapsed": false
   },
   "outputs": [],
   "source": [
    "number_passengers = np.size(npdata[::,1].astype(np.float))\n",
    "number_survived = np.sum(npdata[::,1].astype(np.float))\n",
    "proportion_survived = number_survived / number_passengers\n",
    "print 'number of passengers:', number_passengers, '\\n', 'number of survived:', number_survived, \\\n",
    "'\\n', 'proportion survived:', proportion_survived \n"
   ]
  },
  {
   "cell_type": "code",
   "execution_count": null,
   "metadata": {
    "collapsed": true
   },
   "outputs": [],
   "source": [
    "women_stats = npdata[::,4] == 'female'\n",
    "men_stats = npdata[::,4] =='male'"
   ]
  },
  {
   "cell_type": "code",
   "execution_count": null,
   "metadata": {
    "collapsed": false
   },
   "outputs": [],
   "source": [
    "women_onboard = npdata[women_stats, 1].astype(np.float)\n",
    "men_onboard = npdata[men_stats, 1].astype(np.float)"
   ]
  },
  {
   "cell_type": "code",
   "execution_count": null,
   "metadata": {
    "collapsed": false
   },
   "outputs": [],
   "source": [
    "women_survived = np.sum(women_onboard)/np.size(women_stats)\n",
    "men_survived = np.sum(men_onboard)/np.size(men_stats)\n",
    "print 'Proportion of women who survived is', women_survived\n",
    "print 'Proportion of men who survived is', men_survived"
   ]
  },
  {
   "cell_type": "code",
   "execution_count": null,
   "metadata": {
    "collapsed": true
   },
   "outputs": [],
   "source": [
    "test_file = open('train.csv', 'rb')\n",
    "test_file_object = csv.reader(test_file)\n",
    "header = test_file_object.next()"
   ]
  },
  {
   "cell_type": "code",
   "execution_count": null,
   "metadata": {
    "collapsed": false
   },
   "outputs": [],
   "source": [
    "prediction_file = open('gendermodel.csv', 'wb')\n",
    "prediction_file_object = csv.writer(prediction_file)\n",
    "prediction_file_object.writerow(['PassengerID', 'Survived'])\n",
    "for row in test_file_object:\n",
    "    if row[3] == 'female':\n",
    "        prediction_file_object.writerow([row[0],'1']) #if female, predict survival\n",
    "    else:\n",
    "        prediction_file_object.writerow([row[0],'0']) #if male, predict they didn't survive\n",
    "\n",
    "test_file.close()\n",
    "prediction_file.close()\n",
    "    "
   ]
  },
  {
   "cell_type": "code",
   "execution_count": null,
   "metadata": {
    "collapsed": false
   },
   "outputs": [],
   "source": [
    "fare_ceiling = 40\n",
    "npdata[npdata[0::,9].astype(np.float) >= fare_ceiling, 9] = fare_ceiling - 1.0\n",
    "\n",
    "fare_bracket_size = 10\n",
    "number_of_price_brackets = fare_ceiling / fare_bracket_size\n",
    "\n",
    "number_of_classes = len(np.unique(npdata[0::,2])) #count the number of unique classes\n",
    "\n",
    "survival_table = np.zeros((2, number_of_classes, number_of_price_brackets))"
   ]
  },
  {
   "cell_type": "code",
   "execution_count": null,
   "metadata": {
    "collapsed": false
   },
   "outputs": [],
   "source": [
    "for i in xrange(number_of_classes):     \n",
    "    for j in xrange(number_of_price_brackets):\n",
    "        women_only_stats = npdata[ \\\n",
    "            (npdata[0::,4] == \"female\") & \\\n",
    "            (npdata[0::,2].astype(np.float) == i+1) & \\\n",
    "            (npdata[0:,9].astype(np.float) >= j*fare_bracket_size) & \\\n",
    "            (npdata[0:,9].astype(np.float) < (j+1)*fare_bracket_size),1]\n",
    "        \n",
    "        survival_table[0,i,j] = np.mean(women_only_stats.astype(np.float))"
   ]
  },
  {
   "cell_type": "code",
   "execution_count": null,
   "metadata": {
    "collapsed": true
   },
   "outputs": [],
   "source": [
    "for i in xrange(number_of_classes):\n",
    "    for j in xrange(number_of_price_brackets):\n",
    "        men_only_stats = npdata[ \\\n",
    "                               (npdata[0::,4] == 'male') & \\\n",
    "                               (npdata[0::,2].astype(np.float) == i+1) & \\\n",
    "                               (npdata[0:,9].astype(np.float) >= j*fare_bracket_size) & \\\n",
    "                               (npdata[0:,9].astype(np.float) < (j+1)*fare_bracket_size),1]\n",
    "        \n",
    "        survival_table[1,i,j] = np.mean(men_only_stats.astype(np.float))\n"
   ]
  },
  {
   "cell_type": "code",
   "execution_count": null,
   "metadata": {
    "collapsed": false
   },
   "outputs": [],
   "source": [
    "survival_table[ survival_table != survival_table ] = 0\n",
    "survival_table[survival_table >= 0.5] = 1\n",
    "survival_table[survival_table < 0.5] = 0\n",
    "print survival_table"
   ]
  },
  {
   "cell_type": "code",
   "execution_count": null,
   "metadata": {
    "collapsed": false
   },
   "outputs": [],
   "source": [
    "test_file = open('test.csv', 'rb')\n",
    "test_file_object = csv.reader(test_file)\n",
    "header = test_file_object.next()\n",
    "\n",
    "predictions_file = open(\"genderclassmodel.csv\", \"wb\")\n",
    "p = csv.writer(predictions_file)\n",
    "p.writerow([\"PassengerId\", \"Survived\"])\n",
    "\n",
    "for row in test_file_object:\n",
    "    for j in xrange(number_of_price_brackets):\n",
    "        try:\n",
    "            row[8] = float(row[8])\n",
    "        except:\n",
    "            bin_fare = 3 - float(row[1])\n",
    "            break\n",
    "        if row[8] > fare_ceiling:\n",
    "            bin_fare = number_of_price_brackets - 1\n",
    "            break\n",
    "        if row[8] >= j * fare_bracket_size and row[8] < (j+1) * fare_bracket_size:\n",
    "            bin_fare = j\n",
    "            break\n",
    "            \n",
    "        if row[3] == 'female':\n",
    "            p.writerow([row[0], '%d' % int(survival_table[0, float(row[1]) - 1, bin_fare])])\n",
    "        else:\n",
    "            p.writerow([row[0], '%d' % int(survival_table[1, float(row[1]) - 1, bin_fare])])\n",
    "\n",
    "test_file.close()\n",
    "predictions_file.close()"
   ]
  },
  {
   "cell_type": "code",
   "execution_count": null,
   "metadata": {
    "collapsed": false
   },
   "outputs": [],
   "source": [
    "\n",
    "            "
   ]
  },
  {
   "cell_type": "code",
   "execution_count": null,
   "metadata": {
    "collapsed": true
   },
   "outputs": [],
   "source": []
  },
  {
   "cell_type": "code",
   "execution_count": null,
   "metadata": {
    "collapsed": true
   },
   "outputs": [],
   "source": []
  }
 ],
 "metadata": {
  "anaconda-cloud": {},
  "kernelspec": {
   "display_name": "Python [conda root]",
   "language": "python",
   "name": "conda-root-py"
  },
  "language_info": {
   "codemirror_mode": {
    "name": "ipython",
    "version": 2
   },
   "file_extension": ".py",
   "mimetype": "text/x-python",
   "name": "python",
   "nbconvert_exporter": "python",
   "pygments_lexer": "ipython2",
   "version": "2.7.12"
  }
 },
 "nbformat": 4,
 "nbformat_minor": 1
}
