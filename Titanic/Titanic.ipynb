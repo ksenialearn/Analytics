{
 "cells": [
  {
   "cell_type": "code",
   "execution_count": 2,
   "metadata": {
    "collapsed": true
   },
   "outputs": [],
   "source": [
    "import csv as csv\n",
    "import numpy as np"
   ]
  },
  {
   "cell_type": "code",
   "execution_count": 3,
   "metadata": {
    "collapsed": false
   },
   "outputs": [
    {
     "name": "stdout",
     "output_type": "stream",
     "text": [
      "['PassengerId', 'Survived', 'Pclass', 'Name', 'Sex', 'Age', 'SibSp', 'Parch', 'Ticket', 'Fare', 'Cabin', 'Embarked']\n"
     ]
    }
   ],
   "source": [
    "csv_file = csv.reader(open('train.csv', 'rb'))\n",
    "header = csv_file.next()\n",
    "print header"
   ]
  },
  {
   "cell_type": "code",
   "execution_count": 4,
   "metadata": {
    "collapsed": false
   },
   "outputs": [],
   "source": [
    "data = []\n",
    "for row in csv_file:\n",
    "    data.append(row)\n",
    "npdata = np.array(data) #convet list to an array"
   ]
  },
  {
   "cell_type": "code",
   "execution_count": null,
   "metadata": {
    "collapsed": false
   },
   "outputs": [],
   "source": [
    "print npdata[0]  #exploring fields\n",
    "print npdata[::, 9]"
   ]
  },
  {
   "cell_type": "code",
   "execution_count": 8,
   "metadata": {
    "collapsed": false
   },
   "outputs": [
    {
     "name": "stdout",
     "output_type": "stream",
     "text": [
      "number of passengers: 891 \n",
      "number of survived: 342.0 \n",
      "proportion survived: 0.383838383838\n"
     ]
    }
   ],
   "source": [
    "number_passengers = np.size(npdata[::,1].astype(np.float))\n",
    "number_survived = np.sum(npdata[::,1].astype(np.float))\n",
    "proportion_survived = number_survived / number_passengers\n",
    "print 'number of passengers:', number_passengers, '\\n', 'number of survived:', number_survived, \\\n",
    "'\\n', 'proportion survived:', proportion_survived \n"
   ]
  },
  {
   "cell_type": "code",
   "execution_count": 10,
   "metadata": {
    "collapsed": true
   },
   "outputs": [],
   "source": [
    "women_stats = npdata[::,4] == 'female'\n",
    "men_stats = npdata[::,4] =='male'"
   ]
  },
  {
   "cell_type": "code",
   "execution_count": 15,
   "metadata": {
    "collapsed": false
   },
   "outputs": [],
   "source": [
    "women_onboard = npdata[women_stats, 1].astype(np.float)\n",
    "men_onboard = npdata[men_stats, 1].astype(np.float)"
   ]
  },
  {
   "cell_type": "code",
   "execution_count": 20,
   "metadata": {
    "collapsed": false
   },
   "outputs": [
    {
     "name": "stdout",
     "output_type": "stream",
     "text": [
      "Proportion of women who survived is 0.261503928171\n",
      "Proportion of men who survived is 0.122334455668\n"
     ]
    }
   ],
   "source": [
    "women_survived = np.sum(women_onboard)/np.size(women_stats)\n",
    "men_survived = np.sum(men_onboard)/np.size(men_stats)\n",
    "print 'Proportion of women who survived is', women_survived\n",
    "print 'Proportion of men who survived is', men_survived"
   ]
  },
  {
   "cell_type": "code",
   "execution_count": 22,
   "metadata": {
    "collapsed": true
   },
   "outputs": [],
   "source": [
    "test_file = open('train.csv', 'rb')\n",
    "test_file_object = csv.reader(test_file)\n",
    "header = test_file_object.next()"
   ]
  },
  {
   "cell_type": "code",
   "execution_count": 25,
   "metadata": {
    "collapsed": false
   },
   "outputs": [],
   "source": [
    "prediction_file = open('gendermodel.csv', 'wb')\n",
    "prediction_file_object = csv.writer(prediction_file)\n",
    "prediction_file_object.writerow(['PassengerID', 'Survived'])\n",
    "for row in test_file_object:\n",
    "    if row[3] == 'female':\n",
    "        prediction_file_object.writerow([row[0],'1']) #if female, predict survival\n",
    "    else:\n",
    "        prediction_file_object.writerow([row[0],'0']) #if male, predict they didn't survive\n",
    "\n",
    "test_file.close()\n",
    "prediction_file.close()\n",
    "    "
   ]
  },
  {
   "cell_type": "code",
   "execution_count": null,
   "metadata": {
    "collapsed": true
   },
   "outputs": [],
   "source": []
  }
 ],
 "metadata": {
  "anaconda-cloud": {},
  "kernelspec": {
   "display_name": "Python [conda root]",
   "language": "python",
   "name": "conda-root-py"
  },
  "language_info": {
   "codemirror_mode": {
    "name": "ipython",
    "version": 2
   },
   "file_extension": ".py",
   "mimetype": "text/x-python",
   "name": "python",
   "nbconvert_exporter": "python",
   "pygments_lexer": "ipython2",
   "version": "2.7.12"
  }
 },
 "nbformat": 4,
 "nbformat_minor": 1
}
